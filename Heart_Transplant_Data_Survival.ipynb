{
 "cells": [
  {
   "cell_type": "code",
   "execution_count": 15,
   "id": "dcc389ae",
   "metadata": {},
   "outputs": [],
   "source": [
    "#import dependencies\n",
    "import pandas as pd\n",
    "import matplotlib.pyplot as plt"
   ]
  },
  {
   "cell_type": "code",
   "execution_count": 16,
   "id": "3aa178dd",
   "metadata": {},
   "outputs": [],
   "source": [
    "#excel file path\n",
    "transplant_data_file = \"Data/raw-heart/heart_20_year.csv\""
   ]
  },
  {
   "cell_type": "code",
   "execution_count": 17,
   "id": "8bafe7b5",
   "metadata": {},
   "outputs": [],
   "source": [
    "#import excel, read it and make a dataframe\n",
    "transplant_data_raw = pd.read_csv(transplant_data_file)"
   ]
  },
  {
   "cell_type": "code",
   "execution_count": 18,
   "id": "45cc0465",
   "metadata": {},
   "outputs": [
    {
     "data": {
      "text/html": [
       "<div>\n",
       "<style scoped>\n",
       "    .dataframe tbody tr th:only-of-type {\n",
       "        vertical-align: middle;\n",
       "    }\n",
       "\n",
       "    .dataframe tbody tr th {\n",
       "        vertical-align: top;\n",
       "    }\n",
       "\n",
       "    .dataframe thead th {\n",
       "        text-align: right;\n",
       "    }\n",
       "</style>\n",
       "<table border=\"1\" class=\"dataframe\">\n",
       "  <thead>\n",
       "    <tr style=\"text-align: right;\">\n",
       "      <th></th>\n",
       "      <th>Transplant Year</th>\n",
       "      <th>Data_Year</th>\n",
       "      <th>Organ</th>\n",
       "      <th>Age Group</th>\n",
       "      <th>N</th>\n",
       "      <th>Graft Survival Rate</th>\n",
       "      <th>Graft 95% CI</th>\n",
       "      <th>Patient Survival Rate</th>\n",
       "      <th>Patient 95% CI</th>\n",
       "    </tr>\n",
       "  </thead>\n",
       "  <tbody>\n",
       "    <tr>\n",
       "      <th>0</th>\n",
       "      <td>1988</td>\n",
       "      <td>2008.0</td>\n",
       "      <td>Heart/Lung</td>\n",
       "      <td>1-5 Years</td>\n",
       "      <td>1</td>\n",
       "      <td>*</td>\n",
       "      <td>NaN</td>\n",
       "      <td>*</td>\n",
       "      <td>NaN</td>\n",
       "    </tr>\n",
       "    <tr>\n",
       "      <th>1</th>\n",
       "      <td>1988</td>\n",
       "      <td>2008.0</td>\n",
       "      <td>Heart/Lung</td>\n",
       "      <td>11-17 Years</td>\n",
       "      <td>6</td>\n",
       "      <td>*</td>\n",
       "      <td>NaN</td>\n",
       "      <td>*</td>\n",
       "      <td>NaN</td>\n",
       "    </tr>\n",
       "    <tr>\n",
       "      <th>2</th>\n",
       "      <td>1988</td>\n",
       "      <td>2008.0</td>\n",
       "      <td>Heart/Lung</td>\n",
       "      <td>18-34</td>\n",
       "      <td>31</td>\n",
       "      <td>*</td>\n",
       "      <td>NaN</td>\n",
       "      <td>*</td>\n",
       "      <td>NaN</td>\n",
       "    </tr>\n",
       "    <tr>\n",
       "      <th>3</th>\n",
       "      <td>1988</td>\n",
       "      <td>2008.0</td>\n",
       "      <td>Heart/Lung</td>\n",
       "      <td>35-49</td>\n",
       "      <td>26</td>\n",
       "      <td>*</td>\n",
       "      <td>NaN</td>\n",
       "      <td>*</td>\n",
       "      <td>NaN</td>\n",
       "    </tr>\n",
       "    <tr>\n",
       "      <th>4</th>\n",
       "      <td>1988</td>\n",
       "      <td>2008.0</td>\n",
       "      <td>Heart/Lung</td>\n",
       "      <td>50-64</td>\n",
       "      <td>6</td>\n",
       "      <td>*</td>\n",
       "      <td>NaN</td>\n",
       "      <td>*</td>\n",
       "      <td>NaN</td>\n",
       "    </tr>\n",
       "  </tbody>\n",
       "</table>\n",
       "</div>"
      ],
      "text/plain": [
       "  Transplant Year  Data_Year       Organ    Age Group   N  \\\n",
       "0            1988     2008.0  Heart/Lung    1-5 Years   1   \n",
       "1            1988     2008.0  Heart/Lung  11-17 Years   6   \n",
       "2            1988     2008.0  Heart/Lung        18-34  31   \n",
       "3            1988     2008.0  Heart/Lung        35-49  26   \n",
       "4            1988     2008.0  Heart/Lung        50-64   6   \n",
       "\n",
       "  Graft Survival Rate  Graft 95% CI Patient Survival Rate  Patient 95% CI  \n",
       "0                    *          NaN                      *            NaN  \n",
       "1                    *          NaN                      *            NaN  \n",
       "2                    *          NaN                      *            NaN  \n",
       "3                    *          NaN                      *            NaN  \n",
       "4                    *          NaN                      *            NaN  "
      ]
     },
     "execution_count": 18,
     "metadata": {},
     "output_type": "execute_result"
    }
   ],
   "source": [
    "transplant_data_raw.head()"
   ]
  },
  {
   "cell_type": "code",
   "execution_count": null,
   "id": "4236f125",
   "metadata": {},
   "outputs": [],
   "source": []
  }
 ],
 "metadata": {
  "kernelspec": {
   "display_name": "PythonData",
   "language": "python",
   "name": "pythondata"
  },
  "language_info": {
   "codemirror_mode": {
    "name": "ipython",
    "version": 3
   },
   "file_extension": ".py",
   "mimetype": "text/x-python",
   "name": "python",
   "nbconvert_exporter": "python",
   "pygments_lexer": "ipython3",
   "version": "3.7.13"
  }
 },
 "nbformat": 4,
 "nbformat_minor": 5
}
